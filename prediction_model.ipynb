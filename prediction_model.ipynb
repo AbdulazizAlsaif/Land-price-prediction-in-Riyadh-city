{
 "cells": [
  {
   "cell_type": "code",
   "execution_count": 1,
   "id": "union-discovery",
   "metadata": {},
   "outputs": [],
   "source": [
    "import pandas as pd\n",
    "import numpy as np\n",
    "import datetime as dt\n",
    "from sklearn import linear_model\n",
    "from sklearn.model_selection import train_test_split\n",
    "from sklearn.preprocessing import OneHotEncoder\n",
    "from sklearn.compose import make_column_transformer\n",
    "from sklearn.pipeline import make_pipeline\n",
    "from sklearn.model_selection import cross_val_score\n",
    "import pickle\n",
    "import matplotlib.pyplot as plt\n",
    "import googlemaps\n",
    "import re\n",
    "import warnings\n",
    "\n",
    "warnings.filterwarnings('ignore')"
   ]
  },
  {
   "cell_type": "code",
   "execution_count": 2,
   "id": "palestinian-financing",
   "metadata": {},
   "outputs": [],
   "source": [
    "\n",
    "\n",
    "#Read data\n",
    "df = pd.read_csv('final_data_riyadh.csv')"
   ]
  },
  {
   "cell_type": "code",
   "execution_count": 3,
   "id": "trained-tutorial",
   "metadata": {},
   "outputs": [
    {
     "output_type": "execute_result",
     "data": {
      "text/plain": [
       "              المدينة                     الحي تاريخ الصفقة(هـ)  \\\n",
       "0              الرياض                   حي/أحد       2009/01/21   \n",
       "1              الرياض                   حي/أحد       2009/01/26   \n",
       "2              الرياض                   حي/أحد       2009/01/20   \n",
       "3              الرياض                   حي/أحد       2009/01/25   \n",
       "4              الرياض                   حي/أحد       2009/01/03   \n",
       "...               ...                      ...              ...   \n",
       "952502          شقراء                  حي/أخرى       2020/08/10   \n",
       "952503           عرقه                  حي/عرقه       2020/08/19   \n",
       "952504       الدوادمي                  حي/أخرى       2020/08/11   \n",
       "952505  حوطة بني تميم  حي/الوسيطى بأسفل الباطن       2020/08/17   \n",
       "952506   وادي الدواسر              حي/المعتلاء       2020/08/18   \n",
       "\n",
       "        المساحة (متر مربع)  سعر المتر المربع (ريال) التصنيف     النوع  \n",
       "0                   625.00                      261    سكني  قطعة أرض  \n",
       "1                   435.00                      103    سكني  قطعة أرض  \n",
       "2                   625.00                       75    سكني  قطعة أرض  \n",
       "3                   500.00                      170    سكني  قطعة أرض  \n",
       "4                   993.05                      161    سكني  قطعة أرض  \n",
       "...                    ...                      ...     ...       ...  \n",
       "952502              600.00                     2333   تجاري       شقة  \n",
       "952503              142.13                     2814   تجاري       شقة  \n",
       "952504               28.08                     2671   تجاري  معرض/محل  \n",
       "952505              197.00                      457   تجاري       بيت  \n",
       "952506              280.50                      285   تجاري       بيت  \n",
       "\n",
       "[952507 rows x 7 columns]"
      ],
      "text/html": "<div>\n<style scoped>\n    .dataframe tbody tr th:only-of-type {\n        vertical-align: middle;\n    }\n\n    .dataframe tbody tr th {\n        vertical-align: top;\n    }\n\n    .dataframe thead th {\n        text-align: right;\n    }\n</style>\n<table border=\"1\" class=\"dataframe\">\n  <thead>\n    <tr style=\"text-align: right;\">\n      <th></th>\n      <th>المدينة</th>\n      <th>الحي</th>\n      <th>تاريخ الصفقة(هـ)</th>\n      <th>المساحة (متر مربع)</th>\n      <th>سعر المتر المربع (ريال)</th>\n      <th>التصنيف</th>\n      <th>النوع</th>\n    </tr>\n  </thead>\n  <tbody>\n    <tr>\n      <th>0</th>\n      <td>الرياض</td>\n      <td>حي/أحد</td>\n      <td>2009/01/21</td>\n      <td>625.00</td>\n      <td>261</td>\n      <td>سكني</td>\n      <td>قطعة أرض</td>\n    </tr>\n    <tr>\n      <th>1</th>\n      <td>الرياض</td>\n      <td>حي/أحد</td>\n      <td>2009/01/26</td>\n      <td>435.00</td>\n      <td>103</td>\n      <td>سكني</td>\n      <td>قطعة أرض</td>\n    </tr>\n    <tr>\n      <th>2</th>\n      <td>الرياض</td>\n      <td>حي/أحد</td>\n      <td>2009/01/20</td>\n      <td>625.00</td>\n      <td>75</td>\n      <td>سكني</td>\n      <td>قطعة أرض</td>\n    </tr>\n    <tr>\n      <th>3</th>\n      <td>الرياض</td>\n      <td>حي/أحد</td>\n      <td>2009/01/25</td>\n      <td>500.00</td>\n      <td>170</td>\n      <td>سكني</td>\n      <td>قطعة أرض</td>\n    </tr>\n    <tr>\n      <th>4</th>\n      <td>الرياض</td>\n      <td>حي/أحد</td>\n      <td>2009/01/03</td>\n      <td>993.05</td>\n      <td>161</td>\n      <td>سكني</td>\n      <td>قطعة أرض</td>\n    </tr>\n    <tr>\n      <th>...</th>\n      <td>...</td>\n      <td>...</td>\n      <td>...</td>\n      <td>...</td>\n      <td>...</td>\n      <td>...</td>\n      <td>...</td>\n    </tr>\n    <tr>\n      <th>952502</th>\n      <td>شقراء</td>\n      <td>حي/أخرى</td>\n      <td>2020/08/10</td>\n      <td>600.00</td>\n      <td>2333</td>\n      <td>تجاري</td>\n      <td>شقة</td>\n    </tr>\n    <tr>\n      <th>952503</th>\n      <td>عرقه</td>\n      <td>حي/عرقه</td>\n      <td>2020/08/19</td>\n      <td>142.13</td>\n      <td>2814</td>\n      <td>تجاري</td>\n      <td>شقة</td>\n    </tr>\n    <tr>\n      <th>952504</th>\n      <td>الدوادمي</td>\n      <td>حي/أخرى</td>\n      <td>2020/08/11</td>\n      <td>28.08</td>\n      <td>2671</td>\n      <td>تجاري</td>\n      <td>معرض/محل</td>\n    </tr>\n    <tr>\n      <th>952505</th>\n      <td>حوطة بني تميم</td>\n      <td>حي/الوسيطى بأسفل الباطن</td>\n      <td>2020/08/17</td>\n      <td>197.00</td>\n      <td>457</td>\n      <td>تجاري</td>\n      <td>بيت</td>\n    </tr>\n    <tr>\n      <th>952506</th>\n      <td>وادي الدواسر</td>\n      <td>حي/المعتلاء</td>\n      <td>2020/08/18</td>\n      <td>280.50</td>\n      <td>285</td>\n      <td>تجاري</td>\n      <td>بيت</td>\n    </tr>\n  </tbody>\n</table>\n<p>952507 rows × 7 columns</p>\n</div>"
     },
     "metadata": {},
     "execution_count": 3
    }
   ],
   "source": [
    "df"
   ]
  },
  {
   "cell_type": "code",
   "execution_count": 4,
   "id": "official-landscape",
   "metadata": {},
   "outputs": [],
   "source": [
    "#change coolumns name to english\n",
    "df = df.rename(columns={'التصنيف':'category'})\n",
    "df = df.rename(columns={'المدينة':'city'})\n",
    "df = df.rename(columns={'النوع':'type'})\n",
    "df = df.rename(columns={'سعر المتر المربع (ريال)':'price_per_sq'})\n",
    "df = df.rename(columns={'المساحة (متر مربع)':'size'})\n",
    "df = df.rename(columns={'تاريخ الصفقة(هـ)':'sold_date'})\n",
    "df = df.rename(columns={'الحي':'area_ar'})\n",
    "\n",
    "#change sold date type to datatime\n",
    "df['sold_date'] = pd.to_datetime(df['sold_date'])\n",
    "df['year'] = df['sold_date'].apply(lambda x :x.year)\n",
    "\n",
    "\n",
    "\n",
    "#remove all types that not a land\n",
    "df = df[df['type'].isin(['قطعة أرض'])]  \n",
    "df = df[df['city'].isin(['الرياض'])]  \n",
    "\n",
    "\n",
    "\n",
    "\n",
    "#remove type and city since we only have one type and city\n",
    "#remove type since we only have one type\n",
    "df = df.drop('type',axis=1)\n",
    "df = df.drop('city',axis=1)\n",
    "\n",
    "#remove size \n",
    "df = df.drop('size',axis=1)\n",
    "\n",
    "\n",
    "#map any area that occurs less than 20 times to other\n",
    "value_counts = df.area_ar.value_counts() \n",
    "to_remove = value_counts[value_counts <= 20].index\n",
    "df.replace(to_remove, \"حي/أخرى\", inplace=True)\n",
    "df.area_ar.value_counts()\n",
    "\n",
    "#remove all column that is in 'حي/أخرى'\n",
    "df = df.drop(df[df.area_ar.str.contains('حي/أخرى')].index)\n",
    "\n"
   ]
  },
  {
   "cell_type": "code",
   "execution_count": 5,
   "id": "satisfied-artist",
   "metadata": {},
   "outputs": [
    {
     "output_type": "execute_result",
     "data": {
      "text/plain": [
       "{'area_ar': 180,\n",
       " 'sold_date': 2893,\n",
       " 'price_per_sq': 9767,\n",
       " 'category': 2,\n",
       " 'year': 13}"
      ]
     },
     "metadata": {},
     "execution_count": 5
    }
   ],
   "source": [
    "{column: len(df[column].unique()) for column in df.columns}"
   ]
  },
  {
   "cell_type": "code",
   "execution_count": 7,
   "id": "coastal-completion",
   "metadata": {},
   "outputs": [],
   "source": [
    "# Find the mean for the outliars\n",
    "\n",
    "areas = df.area_ar.unique()\n",
    "years = df.year.unique()\n",
    "\n",
    "result = df[0:0]\n",
    "for area in areas:\n",
    "    for year in years:\n",
    "        x = df[0:0]\n",
    "        x = df.loc[(df['area_ar'] == area) & (df['year']==year)]\n",
    "        if not x.empty:\n",
    "            lower_limit = x['price_per_sq'].quantile(0.25)\n",
    "            upper_limit = x['price_per_sq'].quantile(0.75)\n",
    "            x['price_per_sq'] = x['price_per_sq'].apply(lambda x : np.NaN if (x > upper_limit or x < lower_limit) else x)\n",
    "            mean = x.price_per_sq.mean()\n",
    "            x.price_per_sq.fillna(value= mean,inplace=True)   \n",
    "            result = result.append(x)"
   ]
  },
  {
   "cell_type": "code",
   "execution_count": 8,
   "id": "demonstrated-racing",
   "metadata": {},
   "outputs": [],
   "source": [
    "df2 = result.copy()"
   ]
  },
  {
   "cell_type": "code",
   "execution_count": 9,
   "id": "infrared-honduras",
   "metadata": {},
   "outputs": [
    {
     "data": {
      "text/plain": [
       "area_ar           0\n",
       "sold_date         0\n",
       "price_per_sq    138\n",
       "category          0\n",
       "year              0\n",
       "dtype: int64"
      ]
     },
     "execution_count": 9,
     "metadata": {},
     "output_type": "execute_result"
    }
   ],
   "source": [
    "(df2.isnull()).sum()"
   ]
  },
  {
   "cell_type": "code",
   "execution_count": 10,
   "id": "bigger-aircraft",
   "metadata": {},
   "outputs": [],
   "source": [
    "df2 = df2[df2['price_per_sq'].notna()]"
   ]
  },
  {
   "cell_type": "code",
   "execution_count": 11,
   "id": "continued-stamp",
   "metadata": {},
   "outputs": [
    {
     "data": {
      "text/plain": [
       "area_ar         0\n",
       "sold_date       0\n",
       "price_per_sq    0\n",
       "category        0\n",
       "year            0\n",
       "dtype: int64"
      ]
     },
     "execution_count": 11,
     "metadata": {},
     "output_type": "execute_result"
    }
   ],
   "source": [
    "(df2.isnull()).sum()"
   ]
  },
  {
   "cell_type": "code",
   "execution_count": 12,
   "id": "found-joining",
   "metadata": {},
   "outputs": [],
   "source": [
    "df2 = df2.drop('year',axis=1)"
   ]
  },
  {
   "cell_type": "code",
   "execution_count": 13,
   "id": "binding-clinic",
   "metadata": {},
   "outputs": [],
   "source": [
    "df2['category'] = df2['category'].replace({\"سكني\":\"Residential\",\"تجاري\":\"Commercial\"})\n"
   ]
  },
  {
   "cell_type": "code",
   "execution_count": 14,
   "id": "sharp-winning",
   "metadata": {},
   "outputs": [
    {
     "name": "stdout",
     "output_type": "stream",
     "text": [
      "ar = حي/أحد en = Uhud\n",
      "ar = حي/اشبيليا en = Ishbiliyah\n",
      "ar = حي/الازدهار en = Al Izdihar\n",
      "ar = حي/الامانة en = Al Aarid\n",
      "ar = حي/الاندلس en = Al Andalus\n",
      "ar = حي/البديعة en = As Suwaidi\n",
      "ar = حي/التعاون en = At Taawun\n",
      "ar = حي/الجرادية en = Al Jaradiyah\n",
      "ar = حي/الجزيرة en = Aljazirah\n",
      "ar = حي/الجنادرية en = Al Janadriyyah\n",
      "ar = حي/الحائر en = Al Haeer\n",
      "ar = حي/الحزم en = Alhazm\n",
      "ar = حي/الحمراء en = Al Hamra\n",
      "ar = حي/الخالدية en = Al Khalidiyyah\n",
      "ar = حي/الخزامى en = Al Khuzama\n",
      "ar = حي/الخليج en = Al Khaleej\n",
      "ar = حي/الخير en = مخطط الخير - الأمراء\n",
      "ar = حي/الدار البيضاء en = Ad Dar Al Baida\n",
      "ar = حي/الدريهمية en = As Suwaidi\n",
      "ar = حي/الدوبية en = Al Dubiyah\n",
      "ar = حي/الديرة en = Ad Dirah\n",
      "ar = حي/الرائد en = Al Raed\n",
      "ar = حي/الرابية en = Al Rabeya\n",
      "ar = حي/الربوة en = Ar Rabwah\n",
      "ar = حي/الربيع en = Ar Rabi\n",
      "ar = حي/الرحمانية en = Ar Rahmaniyyah\n",
      "ar = حي/الرمال en = Ar Rimal\n",
      "ar = حي/الروابى en = Ar Rawabi\n",
      "ar = حي/الروضة en = Ar Rawdah\n",
      "ar = حي/الريان en = Ar Rayyan\n",
      "ar = حي/الزهراء en = Az Zahra\n",
      "ar = حي/الزهرة en = Az Zahrah\n",
      "ar = حي/الزهور en = Flowers Garden\n",
      "ar = حي/السعادة en = As Saadah\n",
      "ar = حي/السلام en = As Salam\n",
      "ar = حي/السلى en = As Sulay\n",
      "ar = حي/السليمانية en = As Sulimaniyah\n",
      "ar = حي/السويدى en = As Suwaidi\n",
      "ar = حي/الشرفية en = Ash Sharafiyah\n",
      "ar = حي/الشعاب en = الشعب\n",
      "ar = حي/الشفاء en = Ash Shifa\n",
      "ar = حي/الشمال en = Al Mathar Ash Shamali\n",
      "ar = حي/الشميسى en = Al-Shemaysi\n",
      "ar = حي/الشهداء en = Ash Shuhada\n",
      "ar = حي/الصالحية en = As Salhiyah\n",
      "ar = حي/الصحافة en = As Sahafah\n",
      "ar = حي/الصناعية en = Al Sina'iyah\n",
      "ar = حي/الضباط en = Ad Dhubbat\n",
      "ar = حي/الطراديه en = الطرادية\n",
      "ar = حي/الطويلعة en = At Tuwailiah\n",
      "ar = حي/العارض en = Al Aarid\n",
      "ar = حي/العجلية en = Al Ajaliyah\n",
      "ar = حي/العريجاء en = Al Uraija\n",
      "ar = حي/العزيزية en = Al Aziziyah\n",
      "ar = حي/العقيق en = Al Aqiq\n",
      "ar = حي/العليا en = Al Olaya\n",
      "ar = حي/العود en = Al Oud\n",
      "ar = حي/الغدير en = Al Ghadir\n",
      "ar = حي/الغروب en = حي الغروب\n",
      "ar = حي/الغنامية en = الغنامية\n",
      "ar = حي/الفاخرية en = Al Fakhiriyyah\n",
      "ar = حي/الفاروق en = Al Faruq\n",
      "ar = حي/الفلاح en = Al Falah\n",
      "ar = حي/الفواز en = Al Fawwaz\n",
      "ar = حي/الفوطة en = Al Futah\n",
      "ar = حي/الفيحاء en = Al Fayha\n",
      "ar = حي/الفيصلية en = Al Faisaliyyah\n",
      "ar = حي/القادسية en = Al Qadisiyyah\n",
      "ar = حي/القدس en = Al Quds\n",
      "ar = حي/القيروان en = Al Qirawan\n",
      "ar = حي/المحمدية en = Al Mohammadiyyah\n",
      "ar = حي/المربع en = Al Murabba\n",
      "ar = حي/المرقب en = Almarqab\n",
      "ar = حي/المروة en = Al Marwah\n",
      "ar = حي/المروج en = Al Muruj\n",
      "ar = حي/المصانع en = Al-Masani'\n",
      "ar = حي/المصفاة en = Al Misfat\n",
      "ar = حي/المصيف en = Almasiaf\n",
      "ar = حي/المعذر en = Al Maazer\n",
      "ar = حي/المعيزلية en = Al Maizilah\n",
      "ar = حي/المغرزات en = Al Mughrizat\n",
      "ar = حي/الملز en = Al Malaz\n",
      "ar = حي/الملقا en = Al Malqa\n",
      "ar = حي/الملك عبد الله en = King Abdullah Dt.\n",
      "ar = حي/الملك عبدالعزيز en = Saudi Arabia\n",
      "ar = حي/الملك فهد en = حي الملك فهد\n",
      "ar = حي/الملك فيصل en = King Faisal Dt.\n",
      "ar = حي/المليحية en = المليحية\n",
      "ar = حي/المناخ en = Al-Manakh\n",
      "ar = حي/المنار en = Al Manar\n",
      "ar = حي/المنصورة en = Al Mansourah\n",
      "ar = حي/المنقع en = 3347-3373\n",
      "ar = حي/المهدية en = Al Mahdiyah\n",
      "ar = حي/المونسية en = Al Munsiyah\n",
      "ar = حي/الناصرية en = Al Nasiriyyah\n",
      "ar = حي/النخيل en = An Nakheel\n",
      "ar = حي/الندوة en = Al Nadwa\n",
      "ar = حي/النرجس en = An Narjis\n",
      "ar = حي/النزهة en = An Nuzhah\n",
      "ar = حي/النسيم en = An Nasim Ash Sharqi\n",
      "ar = حي/النظيم en = An Nazim\n",
      "ar = حي/النفل en = An Nafal\n",
      "ar = حي/النموذجية en = An Namudhajiyah\n",
      "ar = حي/النهضة en = An Nahdah\n",
      "ar = حي/الهدا en = Al Hada\n",
      "ar = حي/الواحة en = Al Wahah\n",
      "ar = حي/الوادي en = Al Wadi\n",
      "ar = حي/الورود en = Al Wurud\n",
      "ar = حي/الوزارات en = Al Wizarat\n",
      "ar = حي/الوشام en = Al Wisham\n",
      "ar = حي/الياسمين en = Alyasmin\n",
      "ar = حي/اليرموك en = Al Yarmuk\n",
      "ar = حي/اليمامة en = Al Yamamah\n",
      "ar = حي/ام الحمام en = Umm Al Hamam Al Gharbi\n",
      "ar = حي/ام سليم en = Umm Salim\n",
      "ar = حي/بدر en = Riyadh\n",
      "ar = حي/بنبان en = Banban\n",
      "ar = حي/ثليم en = Thulaim\n",
      "ar = حي/جرير en = Jarir\n",
      "ar = حي/حطين en = Hittin\n",
      "ar = حي/حلة بن دايل en = 2790\n",
      "ar = حي/خنشليلة en = Al Mansourah\n",
      "ar = حي/دعكنة en = Riyadh\n",
      "ar = حي/ديراب en = Dirab\n",
      "ar = حي/سلطانة en = 7001\n",
      "ar = حي/شبرا en = Shubra\n",
      "ar = حي/شرق الرياض en = Ash Sharq\n",
      "ar = حي/طريق الحجاز en = طريق الملك عبدالعزيز، حي الملز، المطار القديم، مقابل وزارة الزراعة جوار\n",
      "ar = حي/طريق الخرج en = Al Kharj Road\n",
      "ar = حي/طويق en = Tuwaiq\n",
      "ar = حي/عتيقة en = Utaiqah\n",
      "ar = حي/عريض en = Uraidh\n",
      "ar = حي/عكاظ en = Uqadh\n",
      "ar = حي/عليشة en = Ulaishah\n",
      "ar = حي/غبيراء en = شارع\n",
      "ar = حي/غرناطة en = Ghirnatah\n",
      "ar = حي/قرطبة en = Qurtubah\n",
      "ar = حي/لبن en = Laban\n",
      "ar = حي/معكال en = Mikal\n",
      "ar = حي/منفوحة en = Manfuhah\n",
      "ar = حي/نمار en = Namar\n",
      "ar = حي/هيت en = Hyt\n",
      "ar = حي/البرية en = Al Birriyyah\n",
      "ar = حي/الجبس en = Saudi Arabia\n",
      "ar = حي/الرفيعة en = Ar Rafiah\n",
      "ar = حي/المرسلات en = Al Mursalat\n",
      "ar = حي/المنصورية en = Al Mansourah\n",
      "ar = حي/الندى en = An Nada\n",
      "ar = حي/صياح en = Siyah\n",
      "ar = حي/طيبة en = Taybah\n",
      "ar = حي/ارضة الجو منطقة العزيزية en = Riyadh\n",
      "ar = حي/البطحاء en = Al-Bathaa\n",
      "ar = حي/الجامعة en = شارع سعيد بن عبدالله باقشير،\n",
      "ar = حي/الصفاء en = Al Safa\n",
      "ar = حي/المؤتمرات en = Al Mutamarat\n",
      "ar = حي/المدينة الصناعية الجديدة en = New Industrial Area\n",
      "ar = حي/النور en = An Noor\n",
      "ar = حي/الوسيطا en = Al Wusaita\n",
      "ar = حي/الوصيل en = Waseel Road\n",
      "ar = حي/سكيرينة en = Skirinah\n",
      "ar = حي/العمل en = Riyadh\n",
      "ar = حي/تلال en = تلال الرياض\n",
      "ar = حي/صلاح الدين en = حي صلاح الدين\n",
      "ar = حي/غرب المطار en = Airport Road\n",
      "ar = حي/القرى en = حديقة حي القرى\n",
      "ar = حي/المشاعل en = Al Mashael\n",
      "ar = حي/الدفاع en = Ad Difa\n",
      "ar = حي/الشرق en = Ash Sharq\n",
      "ar = حي/ام الشعال en = Umalshal\n",
      "ar = حي/حلة العماج en = الشميسي،\n",
      "ar = حي/البساتين en = البساتين\n",
      "ar = حي/طريق خريص en = Khurais Road\n",
      "ar = حي/جبره en = Jabrah\n",
      "ar = حي/شمال الرياض en = Riyadh\n",
      "ar = حي/العوالي en = Alawali\n",
      "ar = حي/البيان en = Ash Sharq\n",
      "ar = حي/الزاهر en = Az Zaher\n",
      "ar = حي/العلا en = Al Olaya\n",
      "ar = حي/اسكان الجزيره en = Aljazirah\n",
      "ar = حي/مطار الملك خالد الدولى en = King Khalid International Airport\n"
     ]
    }
   ],
   "source": [
    "\n",
    "#Enter your google maps api key\n",
    "gmapsApiKey=\"\"\n",
    "gmaps = googlemaps.Client(key=gmapsApiKey)\n",
    "unique_areas=df2.area_ar.unique()\n",
    "\n",
    "df2['area_en'] = df2['area_ar']\n",
    "\n",
    "for area in unique_areas:\n",
    "    r1 = re.match(r\"حي\\/\",area)\n",
    "    if r1!=None:\n",
    "        area1 =  \"Riyadh \" + area \n",
    "        geocode_result = gmaps.geocode(area1)\n",
    "        if len(geocode_result)>0:\n",
    "            try:\n",
    "                area_en=geocode_result[0]['address_components'][0]['long_name']\n",
    "                print(\"ar = \"+ area + \" en = \" +area_en)\n",
    "                df2['area_en'] = df2['area_en'].replace([area],area_en)\n",
    "            except IndexError :\n",
    "                print(\"Error in area = \"+ area)\n",
    "        else :\n",
    "            df2['area_en'] = df2['area_en'].replace([area],'other')\n"
   ]
  },
  {
   "cell_type": "code",
   "execution_count": 15,
   "id": "logical-start",
   "metadata": {},
   "outputs": [],
   "source": [
    "df2.loc[df2['area_ar'] == 'حي/البديعة', 'area_en'] = 'Al Badiah'\n",
    "df2.loc[df2['area_ar'] == 'حي/الدريهمية', 'area_en'] = 'Al Dirihmah'\n",
    "df2.loc[df2['area_ar'] == 'حي/الملك عبدالعزيز', 'area_en'] = 'King Abdulaziz'\n",
    "df2.loc[df2['area_ar'] == 'حي/المنقع', 'area_en'] = 'Al Manaqa'\n",
    "df2.loc[df2['area_ar'] == 'حي/بدر', 'area_en'] = 'Badr'\n",
    "df2.loc[df2['area_ar'] == 'حي/دعكنة', 'area_en'] = 'Al Aziziyah'\n",
    "df2.loc[df2['area_ar'] == 'حي/شرق الرياض', 'area_en'] = 'Sharq Al Ryiadh'\n",
    "df2.loc[df2['area_ar'] == 'حي/الجبس', 'area_en'] = 'Al-Manakh'\n",
    "df2.loc[df2['area_ar'] == 'حي/ارضة الجو منطقة العزيزية', 'area_en'] = 'Al Aziziyah'\n",
    "df2.loc[df2['area_ar'] == 'حي/العمل', 'area_en'] = 'Al Amal'\n",
    "df2.loc[df2['area_ar'] == 'حي/القرى', 'area_en'] = 'Al Qari'\n",
    "df2.loc[df2['area_ar'] == 'حي/شمال الرياض', 'area_en'] = 'Shamal Al Riyadh'\n"
   ]
  },
  {
   "cell_type": "code",
   "execution_count": 16,
   "id": "danish-resource",
   "metadata": {},
   "outputs": [],
   "source": [
    "df2['area_en'] = df2['area_en'].replace([\"مخطط الخير - الأمراء\"],'AL Khair')\n",
    "df2['area_en'] = df2['area_en'].replace([\"Flowers Garden\"],'Az Zuhur')\n",
    "df2['area_en'] = df2['area_en'].replace([\"الشعب\"],'Ash Shiab')\n",
    "df2['area_en'] = df2['area_en'].replace([\"Al Mathar Ash Shamali\"],'Ash Shamal')\n",
    "df2['area_en'] = df2['area_en'].replace([\"الطرادية\"],'Al Taradiah')\n",
    "df2['area_en'] = df2['area_en'].replace([\"حديقة حي العريجاء\"],'Al Uraija')\n",
    "df2['area_en'] = df2['area_en'].replace([\"حي الغروب\"],'Al Ghroob')\n",
    "df2['area_en'] = df2['area_en'].replace([\"الغنامية\"],'Al Ghnamiah')\n",
    "df2['area_en'] = df2['area_en'].replace([\"King Abdullah Dt.\"],'King Abdullah')\n",
    "df2['area_en'] = df2['area_en'].replace([\"حي الملك فهد\"],'King Fahd')\n",
    "df2['area_en'] = df2['area_en'].replace([\"King Faisal Dt.\"],'King Faisal')\n",
    "df2['area_en'] = df2['area_en'].replace([\"المليحية\"],'Al Malihi')\n",
    "df2['area_en'] = df2['area_en'].replace([\"An Nasim Ash Sharqi\"],'An Nasim')\n",
    "df2['area_en'] = df2['area_en'].replace([\"Umm Al Hamam Al Gharbi\"],'Umm Al Hamam')\n",
    "df2['area_en'] = df2['area_en'].replace([\"2790\"],'Bin Dayel')\n",
    "df2['area_en'] = df2['area_en'].replace([\"حي/حلة\"],'Al Hilla')\n",
    "df2['area_en'] = df2['area_en'].replace([\"7001\"],'Sultanah')\n",
    "df2['area_en'] = df2['area_en'].replace([\"طريق الملك عبدالعزيز، حي الملز، المطار القديم، مقابل وزارة الزراعة جوار\"],'Al Hijazi Road')\n",
    "df2['area_en'] = df2['area_en'].replace([\"شارع\"],'Ghubairah')\n",
    "df2['area_en'] = df2['area_en'].replace([\"New Industrial Area\"],'New Industrial')\n",
    "df2['area_en'] = df2['area_en'].replace([\"شارع الربيع\"],'Al-Jamaa')\n",
    "df2['area_en'] = df2['area_en'].replace([\"Waseel Road\"],'Al Waseel')\n",
    "df2['area_en'] = df2['area_en'].replace([\"تلال الرياض\"],'Tilal')\n",
    "df2['area_en'] = df2['area_en'].replace([\"حي صلاح الدين\"],'Salahuddin')\n",
    "df2['area_en'] = df2['area_en'].replace([\"Airport Road\"],'West Airport')\n",
    "df2['area_en'] = df2['area_en'].replace([\"الشميسي،\"],'Al-Shemaysi')\n",
    "df2['area_en'] = df2['area_en'].replace([\"البساتين\"],'Al Basatin')\n"
   ]
  },
  {
   "cell_type": "code",
   "execution_count": 17,
   "id": "exact-coach",
   "metadata": {},
   "outputs": [
    {
     "data": {
      "text/plain": [
       "area_ar         0\n",
       "sold_date       0\n",
       "price_per_sq    0\n",
       "category        0\n",
       "area_en         0\n",
       "dtype: int64"
      ]
     },
     "execution_count": 17,
     "metadata": {},
     "output_type": "execute_result"
    }
   ],
   "source": [
    "(df2.isnull()).sum()"
   ]
  },
  {
   "cell_type": "code",
   "execution_count": 18,
   "id": "sweet-sterling",
   "metadata": {},
   "outputs": [],
   "source": [
    "df2 = df2.drop('area_ar',axis=1)"
   ]
  },
  {
   "cell_type": "code",
   "execution_count": 19,
   "id": "czech-dublin",
   "metadata": {},
   "outputs": [],
   "source": [
    "df2['sold_date']=df2['sold_date'].map(dt.datetime.toordinal) "
   ]
  },
  {
   "cell_type": "code",
   "execution_count": 20,
   "id": "optional-purple",
   "metadata": {},
   "outputs": [],
   "source": [
    "column_trans = make_column_transformer(\n",
    "    (OneHotEncoder(handle_unknown='ignore'), [\"category\",\"area_en\"]),\n",
    "    remainder='passthrough')"
   ]
  },
  {
   "cell_type": "code",
   "execution_count": 21,
   "id": "alpine-picnic",
   "metadata": {},
   "outputs": [
    {
     "data": {
      "text/html": [
       "<div>\n",
       "<style scoped>\n",
       "    .dataframe tbody tr th:only-of-type {\n",
       "        vertical-align: middle;\n",
       "    }\n",
       "\n",
       "    .dataframe tbody tr th {\n",
       "        vertical-align: top;\n",
       "    }\n",
       "\n",
       "    .dataframe thead th {\n",
       "        text-align: right;\n",
       "    }\n",
       "</style>\n",
       "<table border=\"1\" class=\"dataframe\">\n",
       "  <thead>\n",
       "    <tr style=\"text-align: right;\">\n",
       "      <th></th>\n",
       "      <th>sold_date</th>\n",
       "      <th>category</th>\n",
       "      <th>area_en</th>\n",
       "    </tr>\n",
       "  </thead>\n",
       "  <tbody>\n",
       "    <tr>\n",
       "      <th>0</th>\n",
       "      <td>733428</td>\n",
       "      <td>Residential</td>\n",
       "      <td>Uhud</td>\n",
       "    </tr>\n",
       "    <tr>\n",
       "      <th>1</th>\n",
       "      <td>733433</td>\n",
       "      <td>Residential</td>\n",
       "      <td>Uhud</td>\n",
       "    </tr>\n",
       "    <tr>\n",
       "      <th>2</th>\n",
       "      <td>733427</td>\n",
       "      <td>Residential</td>\n",
       "      <td>Uhud</td>\n",
       "    </tr>\n",
       "    <tr>\n",
       "      <th>3</th>\n",
       "      <td>733432</td>\n",
       "      <td>Residential</td>\n",
       "      <td>Uhud</td>\n",
       "    </tr>\n",
       "    <tr>\n",
       "      <th>4</th>\n",
       "      <td>733410</td>\n",
       "      <td>Residential</td>\n",
       "      <td>Uhud</td>\n",
       "    </tr>\n",
       "    <tr>\n",
       "      <th>...</th>\n",
       "      <td>...</td>\n",
       "      <td>...</td>\n",
       "      <td>...</td>\n",
       "    </tr>\n",
       "    <tr>\n",
       "      <th>912523</th>\n",
       "      <td>737450</td>\n",
       "      <td>Residential</td>\n",
       "      <td>King Khalid International Airport</td>\n",
       "    </tr>\n",
       "    <tr>\n",
       "      <th>921883</th>\n",
       "      <td>737466</td>\n",
       "      <td>Residential</td>\n",
       "      <td>King Khalid International Airport</td>\n",
       "    </tr>\n",
       "    <tr>\n",
       "      <th>921884</th>\n",
       "      <td>737481</td>\n",
       "      <td>Residential</td>\n",
       "      <td>King Khalid International Airport</td>\n",
       "    </tr>\n",
       "    <tr>\n",
       "      <th>921885</th>\n",
       "      <td>737458</td>\n",
       "      <td>Residential</td>\n",
       "      <td>King Khalid International Airport</td>\n",
       "    </tr>\n",
       "    <tr>\n",
       "      <th>947606</th>\n",
       "      <td>737608</td>\n",
       "      <td>Residential</td>\n",
       "      <td>King Khalid International Airport</td>\n",
       "    </tr>\n",
       "  </tbody>\n",
       "</table>\n",
       "<p>666815 rows × 3 columns</p>\n",
       "</div>"
      ],
      "text/plain": [
       "        sold_date     category                            area_en\n",
       "0          733428  Residential                               Uhud\n",
       "1          733433  Residential                               Uhud\n",
       "2          733427  Residential                               Uhud\n",
       "3          733432  Residential                               Uhud\n",
       "4          733410  Residential                               Uhud\n",
       "...           ...          ...                                ...\n",
       "912523     737450  Residential  King Khalid International Airport\n",
       "921883     737466  Residential  King Khalid International Airport\n",
       "921884     737481  Residential  King Khalid International Airport\n",
       "921885     737458  Residential  King Khalid International Airport\n",
       "947606     737608  Residential  King Khalid International Airport\n",
       "\n",
       "[666815 rows x 3 columns]"
      ]
     },
     "execution_count": 21,
     "metadata": {},
     "output_type": "execute_result"
    }
   ],
   "source": [
    "#input variable (featuers)\n",
    "X=df2.drop('price_per_sq', axis=1 )\n",
    "X"
   ]
  },
  {
   "cell_type": "code",
   "execution_count": 22,
   "id": "blocked-appearance",
   "metadata": {},
   "outputs": [
    {
     "data": {
      "text/plain": [
       "0          202.25\n",
       "1          202.25\n",
       "2          202.25\n",
       "3          170.00\n",
       "4          161.00\n",
       "           ...   \n",
       "912523    1074.50\n",
       "921883    1074.50\n",
       "921884    1074.50\n",
       "921885    1074.50\n",
       "947606     875.00\n",
       "Name: price_per_sq, Length: 666815, dtype: float64"
      ]
     },
     "execution_count": 22,
     "metadata": {},
     "output_type": "execute_result"
    }
   ],
   "source": [
    "#output Varable (label)\n",
    "Y=df2['price_per_sq']\n",
    "Y"
   ]
  },
  {
   "cell_type": "code",
   "execution_count": 23,
   "id": "exposed-recruitment",
   "metadata": {},
   "outputs": [],
   "source": [
    "X_train, X_test, y_train, y_test = train_test_split(X, Y,test_size=0.2,random_state=0)"
   ]
  },
  {
   "cell_type": "code",
   "execution_count": 24,
   "id": "medium-bloom",
   "metadata": {},
   "outputs": [],
   "source": [
    "#Creating the model\n",
    "linearmodel = linear_model.LinearRegression()"
   ]
  },
  {
   "cell_type": "code",
   "execution_count": 25,
   "id": "lesbian-limit",
   "metadata": {},
   "outputs": [],
   "source": [
    "#Creating the pipeline to handle the preproccicng in each new predction\n",
    "pipe = make_pipeline(column_trans , linearmodel)\n"
   ]
  },
  {
   "cell_type": "code",
   "execution_count": 26,
   "id": "changing-textbook",
   "metadata": {},
   "outputs": [
    {
     "data": {
      "text/plain": [
       "Pipeline(steps=[('columntransformer',\n",
       "                 ColumnTransformer(remainder='passthrough',\n",
       "                                   transformers=[('onehotencoder',\n",
       "                                                  OneHotEncoder(handle_unknown='ignore'),\n",
       "                                                  ['category', 'area_en'])])),\n",
       "                ('linearregression', LinearRegression())])"
      ]
     },
     "execution_count": 26,
     "metadata": {},
     "output_type": "execute_result"
    }
   ],
   "source": [
    "#Model Training\n",
    "pipe.fit(X_train, y_train)"
   ]
  },
  {
   "cell_type": "code",
   "execution_count": 28,
   "id": "supported-monitor",
   "metadata": {},
   "outputs": [],
   "source": [
    "\n",
    "def get_rmse(y_test, y_pred):\n",
    "    rmse = np.sqrt(np.mean((y_test - y_pred)**2))\n",
    "    return rmse\n",
    "\n",
    "def get_r2(y_test, y_pred):\n",
    "    r2 = 1 - (np.sum((y_test - y_pred)**2) / np.sum((y_test - y_test.mean())**2))\n",
    "    return r2\n",
    "\n"
   ]
  },
  {
   "cell_type": "code",
   "execution_count": 29,
   "id": "informative-sponsorship",
   "metadata": {},
   "outputs": [
    {
     "name": "stdout",
     "output_type": "stream",
     "text": [
      " RMSE: 481.42\n",
      " R^2: 0.79921\n"
     ]
    }
   ],
   "source": [
    "y_pred = pipe.predict(X_test)\n",
    "rmse = get_rmse(y_test, y_pred)\n",
    "r2 = get_r2(y_test, y_pred)\n",
    "print(\" RMSE: {:.2f}\".format(rmse))\n",
    "print(\" R^2: {:.5f}\".format(r2))"
   ]
  },
  {
   "cell_type": "code",
   "execution_count": 30,
   "id": "surprised-graduate",
   "metadata": {},
   "outputs": [
    {
     "data": {
      "image/png": "[encoded data removed]",
      "text/plain": [
       "<Figure size 864x576 with 1 Axes>"
      ]
     },
     "metadata": {},
     "output_type": "display_data"
    }
   ],
   "source": [
    "# Our predictions\n",
    "fig  = plt.figure(figsize=(12,8))\n",
    "fig.patch.set_facecolor('white')\n",
    "x = np.arange(0, 10, 0.1)\n",
    "plt.scatter(y_test,y_pred)\n",
    "\n",
    "# Perfect predictions\n",
    "line = plt.plot(y_test,y_test,'r')\n",
    "plt.xlim([0, 8000])\n",
    "plt.ylim([0, 8000])\n",
    "# labels\n",
    "plt.xlabel('Actual Price',)\n",
    "plt.ylabel('Predicted Price')\n",
    "plt.title('Actual Price vs Predicted Price')\n",
    "plt.legend(line, ['Predictions']);\n",
    "\n"
   ]
  },
  {
   "cell_type": "code",
   "execution_count": 31,
   "id": "polar-microwave",
   "metadata": {},
   "outputs": [],
   "source": [
    "def predict(area_en ,category):\n",
    "    # Create the pandas DataFrame \n",
    "    areas = df2.area_en.unique()\n",
    "    categorys = df2.category.unique()\n",
    "    result = \"We don't support this area_en currently\"\n",
    "    if category in categorys:\n",
    "        if area_en in areas :\n",
    "            data = {'sold_date':dt.date.today(), 'category':category, 'area_en': area_en }\n",
    "            new_data = pd.DataFrame(data=data ,index=[0])\n",
    "            new_data['sold_date']=new_data['sold_date'].map(dt.datetime.toordinal)\n",
    "\n",
    "            try:\n",
    "                result = pipe.predict(new_data)[0]\n",
    "            except ValueError:\n",
    "                return \"We don't support this area currently\"\n",
    "\n",
    "    return result\n",
    "    "
   ]
  },
  {
   "cell_type": "code",
   "execution_count": 6,
   "id": "undefined-phoenix",
   "metadata": {},
   "outputs": [
    {
     "output_type": "error",
     "ename": "NameError",
     "evalue": "name 'predict' is not defined",
     "traceback": [
      "\u001b[1;31m---------------------------------------------------------------------------\u001b[0m",
      "\u001b[1;31mNameError\u001b[0m                                 Traceback (most recent call last)",
      "\u001b[1;32m<ipython-input-6-a658c947f5e5>\u001b[0m in \u001b[0;36m<module>\u001b[1;34m\u001b[0m\n\u001b[1;32m----> 1\u001b[1;33m \u001b[0mpredict\u001b[0m\u001b[1;33m(\u001b[0m\u001b[1;34m\"Uhud\"\u001b[0m\u001b[1;33m,\u001b[0m\u001b[1;34m\"Residential\"\u001b[0m\u001b[1;33m)\u001b[0m\u001b[1;33m\u001b[0m\u001b[1;33m\u001b[0m\u001b[0m\n\u001b[0m",
      "\u001b[1;31mNameError\u001b[0m: name 'predict' is not defined"
     ]
    }
   ],
   "source": [
    "predict(\"Uhud\",\"Residential\")"
   ]
  },
  {
   "cell_type": "code",
   "execution_count": null,
   "id": "royal-pierce",
   "metadata": {},
   "outputs": [],
   "source": [
    "#model dump(save)\n",
    "with open(\"model\",\"wb\" ) as f:\n",
    "    pickle.dump(pipe,f)"
   ]
  }
 ],
 "metadata": {
  "kernelspec": {
   "name": "python385jvsc74a57bd0b3ba2566441a7c06988d0923437866b63cedc61552a5af99d1f4fb67d367b25f",
   "display_name": "Python 3.8.5 64-bit (conda)"
  },
  "language_info": {
   "codemirror_mode": {
    "name": "ipython",
    "version": 3
   },
   "file_extension": ".py",
   "mimetype": "text/x-python",
   "name": "python",
   "nbconvert_exporter": "python",
   "pygments_lexer": "ipython3",
   "version": "3.8.5-final"
  }
 },
 "nbformat": 4,
 "nbformat_minor": 5
}